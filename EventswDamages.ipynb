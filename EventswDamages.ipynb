{
 "cells": [
  {
   "cell_type": "code",
   "execution_count": 22,
   "id": "6eae20e4",
   "metadata": {},
   "outputs": [
    {
     "name": "stdout",
     "output_type": "stream",
     "text": [
      "31/01/1890\n",
      "30/05/1866\n",
      "XX/XX/0616\n",
      "XX/XX/179X\n",
      "XX/XX/1837\n",
      "11-12/10/1761\n",
      "13/11/1835\n",
      "XX/11/1879\n",
      "11/08/1887\n",
      "25/10/1887\n",
      "XX/03/1892\n",
      "10/02/1896\n",
      "17/11/1896\n",
      "23/08/1900\n",
      "06/08/1905\n",
      "27/02/1914\n",
      "XX/11/1929\n",
      "09/06/1931\n",
      "09/07/1931\n",
      "XX/12/1932\n",
      "04/04/1095\n",
      "11/06/1933\n",
      "22/02/1934\n",
      "22/04/1934\n",
      "31/01/1914\n",
      "11/09/1921\n",
      "13/08/1922\n",
      "24/06/1924\n",
      "24/08/1925\n",
      "17/08/1928\n",
      "21/02/1953\n",
      "21/09/1912\n",
      "18/07/1910\n",
      "05/02/1901\n",
      "12/02/1908\n",
      "16/06/1859\n",
      "XX/XX/1859\n",
      "15/11/1859\n",
      "30/11/1954\n",
      "20/10/1866\n",
      "26/10/1869\n",
      "17/02/1934\n",
      "13/10/1950\n",
      "09/11/1871\n",
      "Â¿13/11/1872?\n",
      "23/11/1877\n",
      "09/04/1879\n",
      "10/05/1879\n",
      "29/06/1880\n",
      "01/08/1881\n",
      "30/07/1881\n",
      "21/09/1881\n",
      "09/03/1882\n",
      "06/09/1885\n",
      "05/05/1886\n",
      "27/06/1886\n",
      "13/09/1886\n",
      "08/12/1886\n",
      "15/11/1887\n",
      "14/07/1888\n",
      "18/12/1890\n",
      "02/09/1891\n",
      "02/12/1896\n",
      "16/11/1901\n",
      "14/08/1903\n",
      "12/08/1904\n",
      "27/08/1913\n",
      "06/12/1907\n",
      "12/02/1908\n",
      "XX/03/1892\n",
      "30/06/1908\n",
      "18/12/1890\n",
      "23/08/1900\n",
      "24/08/1925\n",
      "24/11/2002\n",
      "06/09/1885\n",
      "08/11/1982\n",
      "16/11/1901\n",
      "25/07/1922\n",
      "23/11/1877\n",
      "1/06/939\n",
      "18/07/1910\n",
      "XX/11/1929\n",
      "\n",
      "['31/01/1890', '30/05/1866', 'XX/XX/0616', 'XX/XX/179X', 'XX/XX/1837', '11-12/10/1761', '13/11/1835', 'XX/11/1879', '11/08/1887', '25/10/1887', 'XX/03/1892', '10/02/1896', '17/11/1896', '23/08/1900', '06/08/1905', '27/02/1914', 'XX/11/1929', '09/06/1931', '09/07/1931', 'XX/12/1932', '04/04/1095', '11/06/1933', '22/02/1934', '22/04/1934', '31/01/1914', '11/09/1921', '13/08/1922', '24/06/1924', '24/08/1925', '17/08/1928', '21/02/1953', '21/09/1912', '18/07/1910', '05/02/1901', '12/02/1908', '16/06/1859', 'XX/XX/1859', '15/11/1859', '30/11/1954', '20/10/1866', '26/10/1869', '17/02/1934', '13/10/1950', '09/11/1871', 'Â¿13/11/1872?', '23/11/1877', '09/04/1879', '10/05/1879', '29/06/1880', '01/08/1881', '30/07/1881', '21/09/1881', '09/03/1882', '06/09/1885', '05/05/1886', '27/06/1886', '13/09/1886', '08/12/1886', '15/11/1887', '14/07/1888', '18/12/1890', '02/09/1891', '02/12/1896', '16/11/1901', '14/08/1903', '12/08/1904', '27/08/1913', '06/12/1907', '12/02/1908', 'XX/03/1892', '30/06/1908', '18/12/1890', '23/08/1900', '24/08/1925', '24/11/2002', '06/09/1885', '08/11/1982', '16/11/1901', '25/07/1922', '23/11/1877', '1/06/939', '18/07/1910', 'XX/11/1929', '']\n"
     ]
    }
   ],
   "source": [
    "with open(\"datadaños.txt\") as file_object:\n",
    "    daños = file_object.read()\n",
    "    print(daños)\n",
    "\n",
    "    dañosb=daños.split(sep='\\n')\n",
    "    print(dañosb)"
   ]
  },
  {
   "cell_type": "code",
   "execution_count": 23,
   "id": "d948d304",
   "metadata": {},
   "outputs": [],
   "source": [
    "def detect(date):\n",
    "    a = date.split('/')\n",
    "    if len(a[0])==1:\n",
    "        a[0]='0'+a[0]\n",
    "    if len(a[1])==1:\n",
    "        a[0]='0'+a[1]\n",
    "    \n",
    "    ok0=len(a[0])==2 and len(a[1])==2 and len(a[2])==4\n",
    "    ok1=not a[0] == 'XX' \n",
    "    ok2=not a[1] == 'XX'\n",
    "    ok3=not a[0] == '0X'\n",
    "    ok=ok0*ok1*ok2*ok3\n",
    "    \n",
    "    if ok==1:\n",
    "        newdate=a[2]+'/'+a[1]+'/'+a[0]\n",
    "        return newdate\n",
    "    else:\n",
    "        print('mala fecha', a[0], a[1], a[2])"
   ]
  },
  {
   "cell_type": "code",
   "execution_count": 24,
   "id": "be81f6f0",
   "metadata": {},
   "outputs": [
    {
     "name": "stdout",
     "output_type": "stream",
     "text": [
      "mala fecha XX XX 0616\n",
      "mala fecha XX XX 179X\n",
      "mala fecha XX XX 1837\n",
      "mala fecha 11-12 10 1761\n",
      "mala fecha XX 11 1879\n",
      "mala fecha XX 03 1892\n",
      "mala fecha XX 11 1929\n",
      "mala fecha XX 12 1932\n",
      "mala fecha XX XX 1859\n",
      "mala fecha Â¿13 11 1872?\n",
      "mala fecha XX 03 1892\n",
      "mala fecha 01 06 939\n",
      "mala fecha XX 11 1929\n"
     ]
    }
   ],
   "source": [
    "daños1=dañosb[0:83]\n",
    "daños1\n",
    "daños1ok=list(map(detect,daños1))"
   ]
  },
  {
   "cell_type": "code",
   "execution_count": 25,
   "id": "ab0ec9c8",
   "metadata": {},
   "outputs": [
    {
     "name": "stdout",
     "output_type": "stream",
     "text": [
      "List after removal of None values : ['1890/01/31', '1866/05/30', '1835/11/13', '1887/08/11', '1887/10/25', '1896/02/10', '1896/11/17', '1900/08/23', '1905/08/06', '1914/02/27', '1931/06/09', '1931/07/09', '1095/04/04', '1933/06/11', '1934/02/22', '1934/04/22', '1914/01/31', '1921/09/11', '1922/08/13', '1924/06/24', '1925/08/24', '1928/08/17', '1953/02/21', '1912/09/21', '1910/07/18', '1901/02/05', '1908/02/12', '1859/06/16', '1859/11/15', '1954/11/30', '1866/10/20', '1869/10/26', '1934/02/17', '1950/10/13', '1871/11/09', '1877/11/23', '1879/04/09', '1879/05/10', '1880/06/29', '1881/08/01', '1881/07/30', '1881/09/21', '1882/03/09', '1885/09/06', '1886/05/05', '1886/06/27', '1886/09/13', '1886/12/08', '1887/11/15', '1888/07/14', '1890/12/18', '1891/09/02', '1896/12/02', '1901/11/16', '1903/08/14', '1904/08/12', '1913/08/27', '1907/12/06', '1908/02/12', '1908/06/30', '1890/12/18', '1900/08/23', '1925/08/24', '2002/11/24', '1885/09/06', '1982/11/08', '1901/11/16', '1922/07/25', '1877/11/23', '1910/07/18']\n"
     ]
    }
   ],
   "source": [
    "#Eliminamos valores 'None' de la lista para poder utilizar la función de conversion a longitud solar\n",
    "res = []\n",
    "for val in daños1ok:\n",
    "    if val != None:\n",
    "        res.append(val)\n",
    "print (\"List after removal of None values : \" + str(res))"
   ]
  },
  {
   "cell_type": "code",
   "execution_count": 26,
   "id": "dafbcf63",
   "metadata": {},
   "outputs": [
    {
     "data": {
      "text/plain": [
       "['1900/08/23',\n",
       " '1925/08/24',\n",
       " '1910/07/18',\n",
       " '1908/02/12',\n",
       " '1877/11/23',\n",
       " '1885/09/06',\n",
       " '1890/12/18',\n",
       " '1901/11/16']"
      ]
     },
     "execution_count": 26,
     "metadata": {},
     "output_type": "execute_result"
    }
   ],
   "source": [
    "elementos_rep(res)"
   ]
  },
  {
   "cell_type": "code",
   "execution_count": 27,
   "id": "accc98e4",
   "metadata": {},
   "outputs": [],
   "source": [
    "from collections import Counter\n",
    "#La función set elimina los elementos duplicados\n",
    "def elem_unicos(lista):\n",
    "    #Creamos un conjunto con los elementos únicos de la lista\n",
    "    elementos_unicos = set(lista)\n",
    "    #Retornamos una lista con los elementos únicos\n",
    "    return list(elementos_unicos)"
   ]
  },
  {
   "cell_type": "code",
   "execution_count": 28,
   "id": "11b528e6",
   "metadata": {},
   "outputs": [],
   "source": [
    "dañosSolarL=elem_unicos(res)"
   ]
  },
  {
   "cell_type": "code",
   "execution_count": 29,
   "id": "0e2e8ca7",
   "metadata": {},
   "outputs": [],
   "source": [
    "import ephem as ep #Ephemerides\n",
    "import numpy as np \n",
    "import matplotlib.mlab as mlab \n",
    "import matplotlib.pyplot as plt \n",
    "import argparse\n",
    "from datetime import datetime\n",
    "\n",
    "parser = argparse.ArgumentParser()\n",
    "parser.add_argument(\"date\", type=str, help=\"Date on day/month/year\")\n",
    "args, known = parser.parse_known_args()\n",
    "date=args.date\n",
    "\n",
    "def datetoSolarL(date): # fechas --> 'long solar' medida en la ecliptica\n",
    "    s =ep.Sun()         \n",
    "    s.compute(date)     #Ejecutamos la función s para calcular las efemerides en una fecha concreta\n",
    "    ecl = ep.Ecliptic(s) #Transformamos las coordenadas en coordenadas eclipticas (ascensión_recta-declinación)\n",
    "    ecl.lon              #Nos da la longitud ecliptica\n",
    "    #print ecl.lon\n",
    "    solarL=(ecl.lon/np.pi)*180 #Pasamos de radianes a grados.\n",
    "    return solarL"
   ]
  },
  {
   "cell_type": "code",
   "execution_count": 30,
   "id": "2f493c0a",
   "metadata": {},
   "outputs": [],
   "source": [
    "dañosSolarL=list(map(datetoSolarL,res))\n",
    "x0=min(dañosSolarL)\n",
    "x1=max(dañosSolarL)"
   ]
  },
  {
   "cell_type": "code",
   "execution_count": 31,
   "id": "df151ba3",
   "metadata": {},
   "outputs": [],
   "source": [
    "#Para encontrar elementos repetidos en la lista de datos\n",
    "from collections import Counter\n",
    "\n",
    "def elementos_rep(lista):\n",
    "    contador = Counter(lista)\n",
    "    #creamos una lista con los elementos repetidos\n",
    "    elementos_repetidos = [elemento for elemento, count in contador.items() if count > 1]\n",
    "    #Retornamos la lista con los elementos repetidos\n",
    "    return elementos_repetidos"
   ]
  },
  {
   "cell_type": "code",
   "execution_count": 32,
   "id": "246da4d9",
   "metadata": {},
   "outputs": [],
   "source": [
    "ran=x1-x0"
   ]
  },
  {
   "cell_type": "code",
   "execution_count": 33,
   "id": "1105a836",
   "metadata": {},
   "outputs": [
    {
     "data": {
      "text/plain": [
       "Text(0, 0.5, 'Frequency')"
      ]
     },
     "execution_count": 33,
     "metadata": {},
     "output_type": "execute_result"
    },
    {
     "data": {
      "image/png": "[encoded data removed]",
      "text/plain": [
       "<Figure size 640x480 with 1 Axes>"
      ]
     },
     "metadata": {},
     "output_type": "display_data"
    }
   ],
   "source": [
    "# Import the libraries\n",
    "import matplotlib.pyplot as plt\n",
    "import seaborn as sns\n",
    "\n",
    "# matplotlib histogram\n",
    "plt.hist(dañosSolarL, color = 'blueviolet', edgecolor = 'black',\n",
    "         bins = int(ran/3))\n",
    "# Add labels\n",
    "plt.title('Histogram of Events with damages')\n",
    "plt.xlabel('Solar Longitude(º)')\n",
    "plt.ylabel('Frequency')"
   ]
  },
  {
   "cell_type": "code",
   "execution_count": 34,
   "id": "8bf07a9f",
   "metadata": {},
   "outputs": [],
   "source": [
    "def detect2(date):\n",
    "    a = date.split('/')\n",
    "    if len(a[0])==1:\n",
    "        a[0]='0'+a[0]\n",
    "    if len(a[1])==1:\n",
    "        a[0]='0'+a[1]\n",
    "    \n",
    "    ok0=len(a[0])==2 and len(a[1])==2 and len(a[2])==4\n",
    "    ok1=not a[0] == 'XX' \n",
    "    ok2=not a[1] == 'XX'\n",
    "    ok3=not a[0] == '0X'\n",
    "    ok=ok0*ok1*ok2*ok3\n",
    "    \n",
    "    if ok==1:\n",
    "        if a[2]>'1807' and a[2]<'2007': #Restringimos a un periodo de 200 años\n",
    "            newdate=a[2]+'/'+a[1]+'/'+a[0]\n",
    "            return newdate\n",
    "    else:\n",
    "        print('mala fecha', a[0], a[1], a[2])"
   ]
  },
  {
   "cell_type": "code",
   "execution_count": 35,
   "id": "134b2e56",
   "metadata": {},
   "outputs": [
    {
     "name": "stdout",
     "output_type": "stream",
     "text": [
      "mala fecha XX XX 0616\n",
      "mala fecha XX XX 179X\n",
      "mala fecha XX XX 1837\n",
      "mala fecha 11-12 10 1761\n",
      "mala fecha XX 11 1879\n",
      "mala fecha XX 03 1892\n",
      "mala fecha XX 11 1929\n",
      "mala fecha XX 12 1932\n",
      "mala fecha XX XX 1859\n",
      "mala fecha Â¿13 11 1872?\n",
      "mala fecha XX 03 1892\n",
      "mala fecha 01 06 939\n",
      "mala fecha XX 11 1929\n"
     ]
    }
   ],
   "source": [
    "daños1=dañosb[0:83]\n",
    "daños1ok200=list(map(detect2,daños1))"
   ]
  },
  {
   "cell_type": "code",
   "execution_count": 36,
   "id": "05927be2",
   "metadata": {},
   "outputs": [
    {
     "name": "stdout",
     "output_type": "stream",
     "text": [
      "List after removal of None values : ['1890/01/31', '1866/05/30', '1835/11/13', '1887/08/11', '1887/10/25', '1896/02/10', '1896/11/17', '1900/08/23', '1905/08/06', '1914/02/27', '1931/06/09', '1931/07/09', '1933/06/11', '1934/02/22', '1934/04/22', '1914/01/31', '1921/09/11', '1922/08/13', '1924/06/24', '1925/08/24', '1928/08/17', '1953/02/21', '1912/09/21', '1910/07/18', '1901/02/05', '1908/02/12', '1859/06/16', '1859/11/15', '1954/11/30', '1866/10/20', '1869/10/26', '1934/02/17', '1950/10/13', '1871/11/09', '1877/11/23', '1879/04/09', '1879/05/10', '1880/06/29', '1881/08/01', '1881/07/30', '1881/09/21', '1882/03/09', '1885/09/06', '1886/05/05', '1886/06/27', '1886/09/13', '1886/12/08', '1887/11/15', '1888/07/14', '1890/12/18', '1891/09/02', '1896/12/02', '1901/11/16', '1903/08/14', '1904/08/12', '1913/08/27', '1907/12/06', '1908/02/12', '1908/06/30', '1890/12/18', '1900/08/23', '1925/08/24', '2002/11/24', '1885/09/06', '1982/11/08', '1901/11/16', '1922/07/25', '1877/11/23', '1910/07/18']\n"
     ]
    }
   ],
   "source": [
    "#Eliminamos valores 'None' de la lista para poder utilizar la función de conversion a longitud solar\n",
    "res200= []\n",
    "for val in daños1ok200:\n",
    "    if val != None:\n",
    "        res200.append(val)\n",
    "print (\"List after removal of None values : \" + str(res200))"
   ]
  },
  {
   "cell_type": "code",
   "execution_count": 47,
   "id": "09ee54e1",
   "metadata": {},
   "outputs": [
    {
     "data": {
      "text/plain": [
       "['1900/08/23',\n",
       " '1925/08/24',\n",
       " '1910/07/18',\n",
       " '1908/02/12',\n",
       " '1877/11/23',\n",
       " '1885/09/06',\n",
       " '1890/12/18',\n",
       " '1901/11/16']"
      ]
     },
     "execution_count": 47,
     "metadata": {},
     "output_type": "execute_result"
    }
   ],
   "source": [
    "elementos_rep(res200)"
   ]
  },
  {
   "cell_type": "code",
   "execution_count": 53,
   "id": "56e97db4",
   "metadata": {},
   "outputs": [],
   "source": [
    "dañosSolarL200NR=elem_unicos(res200)"
   ]
  },
  {
   "cell_type": "code",
   "execution_count": 54,
   "id": "215bff5d",
   "metadata": {},
   "outputs": [],
   "source": [
    "dañosSolarL200=list(map(datetoSolarL,dañosSolarL200NR))\n",
    "x0200=min(dañosSolarL200)\n",
    "x1200=max(dañosSolarL200)\n",
    "ran=x1200-x0200"
   ]
  },
  {
   "cell_type": "code",
   "execution_count": 56,
   "id": "17d499bc",
   "metadata": {},
   "outputs": [
    {
     "data": {
      "text/plain": [
       "61"
      ]
     },
     "execution_count": 56,
     "metadata": {},
     "output_type": "execute_result"
    }
   ],
   "source": [
    "len(dañosSolarL200)"
   ]
  },
  {
   "cell_type": "code",
   "execution_count": 57,
   "id": "2729519b",
   "metadata": {},
   "outputs": [
    {
     "data": {
      "image/png": "[encoded data removed]",
      "text/plain": [
       "<Figure size 640x480 with 2 Axes>"
      ]
     },
     "metadata": {},
     "output_type": "display_data"
    }
   ],
   "source": [
    "#Import the libraries\n",
    "import matplotlib.pyplot as plt\n",
    "import seaborn as sns\n",
    "import matplotlib.pyplot as plt\n",
    "import numpy as np\n",
    "import datetime\n",
    "import matplotlib.dates as mdates\n",
    "from matplotlib.ticker import AutoMinorLocator\n",
    "from matplotlib.dates import DayLocator, HourLocator, DateFormatter, drange\n",
    "import ephem as ep\n",
    "#matplotlib histogram\n",
    "fig, ax = plt.subplots()\n",
    "ax.set_xlim(0,360)\n",
    "ax.hist(dañosSolarL200, bins=int(ran/3),\n",
    "        linewidth=0.5, color='blueviolet', edgecolor=\"black\")\n",
    "plt.title('Histogram of Events with damages 200 years period')\n",
    "plt.xlabel('Solar Longitude(º)')\n",
    "plt.ylabel('Frequency')\n",
    "ax2 = ax.twiny()\n",
    "labels=['21/03/1987', '21/04/1987', '21/05/1987', '21/06/1987', '21/07/1987', '21/08/1987', '21/09/1987', '21/10/1987', '21/11/1987', '21/12/1987', '21/01/1988', '21/02/1988', '20/03/1988' ] \n",
    "coordenadas=[0.02529, 30.5519, 59.61486, 89.29932, 117.90791 ,147.60232, 177.65991,207.23129, 238.30222,  268.74034, 300.32445, 331.74296, 359.77043]\n",
    "ax2.set_xticks(coordenadas)\n",
    "ax2.set_xticklabels(labels, rotation=60)\n",
    "ax2.yaxis.set_minor_locator(AutoMinorLocator())\n",
    "ax.fmt_xdata = DateFormatter('%m-%d')\n",
    "ax2.set_xlabel('Over 1 year[1987]')\n",
    "ax2.set_xlabel('dd/mm/YYYY format')\n",
    "plt.show()"
   ]
  },
  {
   "cell_type": "code",
   "execution_count": null,
   "id": "45538b77",
   "metadata": {},
   "outputs": [],
   "source": []
  },
  {
   "cell_type": "code",
   "execution_count": null,
   "id": "8c8e3404",
   "metadata": {},
   "outputs": [],
   "source": []
  }
 ],
 "metadata": {
  "kernelspec": {
   "display_name": "Python 3 (ipykernel)",
   "language": "python",
   "name": "python3"
  },
  "language_info": {
   "codemirror_mode": {
    "name": "ipython",
    "version": 3
   },
   "file_extension": ".py",
   "mimetype": "text/x-python",
   "name": "python",
   "nbconvert_exporter": "python",
   "pygments_lexer": "ipython3",
   "version": "3.9.13"
  }
 },
 "nbformat": 4,
 "nbformat_minor": 5
}
